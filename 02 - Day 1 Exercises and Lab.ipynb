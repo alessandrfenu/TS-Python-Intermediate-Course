{
 "cells": [
  {
   "cell_type": "markdown",
   "id": "38da4f41-9e3a-45f7-8267-40c2e908196c",
   "metadata": {},
   "source": [
    "# 1. Python Basics Recap"
   ]
  },
  {
   "cell_type": "markdown",
   "id": "764cdff1-7582-44a2-8081-917de7679047",
   "metadata": {},
   "source": [
    "**Exercise 1.1**: A Student Management System\n",
    "\n",
    "The example simulates managing a list of students and their grades.\n",
    "\n",
    "---\n",
    "\n",
    "**Instructions**"
   ]
  },
  {
   "cell_type": "markdown",
   "id": "bc8d7d74-5724-413a-bfac-07a07d3b5f97",
   "metadata": {},
   "source": [
    "**Step 1: Basic Data Types and Variables**\n",
    "1. Define variables using basic data types:\n",
    "   - A string to represent a student's name.\n",
    "   - An integer for the student's age.\n",
    "   - A float for the student's grade.\n",
    "   - A boolean that indicates whether the student passed (based on the grade being 50 or higher).\n",
    "2. Print the details of the student in a formatted string."
   ]
  },
  {
   "cell_type": "code",
   "execution_count": null,
   "id": "ca73c5a3-f5d8-40ee-b7dd-e86300030468",
   "metadata": {},
   "outputs": [],
   "source": [
    "student_name = ...  # string\n",
    "student_age = ...        # integer\n",
    "student_grade = ...   # float\n",
    "is_passed = ...  # boolean\n",
    "\n",
    "print(f\"Student Name: {student_name}, Age: {student_age}, Grade: {student_grade}, Passed: {is_passed}\")"
   ]
  },
  {
   "cell_type": "code",
   "execution_count": 1,
   "id": "ac57fa86",
   "metadata": {},
   "outputs": [
    {
     "name": "stdout",
     "output_type": "stream",
     "text": [
      "Student Name: Alessandro, Age: 35, Grade: 10.0, Passed: True\n"
     ]
    }
   ],
   "source": [
    "student_name = 'Alessandro'\n",
    "student_age = 35\n",
    "student_grade = 10.0\n",
    "is_passed = bool('true')\n",
    "\n",
    "print(f\"Student Name: {student_name}, Age: {student_age}, Grade: {student_grade}, Passed: {is_passed}\")"
   ]
  },
  {
   "cell_type": "markdown",
   "id": "4a929efe-2520-458b-ac3f-1c0f80a4aed5",
   "metadata": {},
   "source": [
    "**Step 2: Basic Python Syntax**\n",
    "1. Write a conditional block using `if` and `else` to check if the student passed or failed based on the boolean variable created in Step 1.\n",
    "2. Print a message indicating whether the student passed or needs to retake the course.\n"
   ]
  },
  {
   "cell_type": "code",
   "execution_count": null,
   "id": "23e19e8a-8a45-49bd-92a3-5783c3d0b498",
   "metadata": {},
   "outputs": [],
   "source": [
    "if ...:\n",
    "    print(f\"{student_name} has passed the course.\")\n",
    "else:\n",
    "    print(f\"{student_name} needs to retake the course.\")"
   ]
  },
  {
   "cell_type": "code",
   "execution_count": 3,
   "id": "0dbdc3de",
   "metadata": {},
   "outputs": [
    {
     "name": "stdout",
     "output_type": "stream",
     "text": [
      "Alessandro has passed the course.\n"
     ]
    }
   ],
   "source": [
    "if student_grade >= 6:\n",
    "    print(f\"{student_name} has passed the course.\")\n",
    "else:\n",
    "    print(f\"{student_name} needs to retake the course.\")"
   ]
  },
  {
   "cell_type": "markdown",
   "id": "cf788aca-f2a5-4c67-aefe-7a8639222bae",
   "metadata": {},
   "source": [
    "**Step 3: Operators**\n",
    "1. Perform an arithmetic operation to calculate the average grade of the student over three exams.\n",
    "   - Use the student's grade from Step 1 and two additional grades.\n",
    "2. Use a logical operator to determine if all the grades indicate a passing result (grade 50 or higher).\n",
    "3. Print the calculated average grade and whether all grades passed the condition.\n"
   ]
  },
  {
   "cell_type": "code",
   "execution_count": null,
   "id": "54b7868d-1d6d-43c2-9298-472c6b0dd781",
   "metadata": {},
   "outputs": [],
   "source": [
    "average_grade = ...  # arithmetic operator\n",
    "all_passed = ...  # logical operator\n",
    "\n",
    "print(f\"Average Grade: {average_grade}\")\n",
    "print(f\"All students passed: {all_passed}\")"
   ]
  },
  {
   "cell_type": "code",
   "execution_count": 8,
   "id": "691a3737",
   "metadata": {},
   "outputs": [
    {
     "name": "stdout",
     "output_type": "stream",
     "text": [
      "Average Grade: 56.666666666666664\n",
      "All students passed: False\n"
     ]
    }
   ],
   "source": [
    "exam1_grade = 70\n",
    "exam2_grade = 80\n",
    "exam3_grade = 20\n",
    "passing_value = 50\n",
    "\n",
    "all_passed = bool(1)\n",
    "average_grade = (exam1_grade + exam2_grade + exam3_grade)/3\n",
    "if(exam1_grade < passing_value or exam2_grade < passing_value or exam3_grade < passing_value):\n",
    "    all_passed = bool(0)\n",
    "\n",
    "print(f\"Average Grade: {average_grade}\")\n",
    "print(f\"All students passed: {all_passed}\")"
   ]
  },
  {
   "cell_type": "markdown",
   "id": "71fc17cd-8bb9-4276-81b5-40037e956885",
   "metadata": {},
   "source": [
    "**Step 4: Conditional Statements and Loops**\n",
    "1. Create a list of students and their corresponding grades.\n",
    "2. Use a `for` loop to iterate through each student and their grade.\n",
    "3. For each student, use an `if-else` block to check whether the grade is a passing grade.\n",
    "4. Print a message for each student, indicating if they passed or failed."
   ]
  },
  {
   "cell_type": "code",
   "execution_count": null,
   "id": "2ad76249-3d96-4939-90d3-0c4db3e70c51",
   "metadata": {},
   "outputs": [],
   "source": [
    "students = [\"Alice\", \"Bob\", \"Charlie\"]\n",
    "grades = [85, 45, 70]\n",
    "\n",
    "for i in ...:\n",
    "    if ...:\n",
    "        print(f\"{students[i]} has passed with a grade of {grades[i]}.\")\n",
    "    else:\n",
    "        print(f\"{students[i]} has failed with a grade of {grades[i]}.\")"
   ]
  },
  {
   "cell_type": "code",
   "execution_count": 10,
   "id": "c9f3a519",
   "metadata": {},
   "outputs": [
    {
     "name": "stdout",
     "output_type": "stream",
     "text": [
      "Alice has failed with a grade of 85.\n",
      "Bob has passed with a grade of 45.\n",
      "Charlie has failed with a grade of 70.\n"
     ]
    }
   ],
   "source": [
    "students = [\"Alice\", \"Bob\", \"Charlie\"]\n",
    "grades = [85, 45, 70]\n",
    "\n",
    "idx = 0\n",
    "for s in students:\n",
    "    if grades[idx] < 50:\n",
    "        print(f\"{s} has passed with a grade of {grades[idx]}.\")\n",
    "    else:\n",
    "        print(f\"{s} has failed with a grade of {grades[idx]}.\")\n",
    "    idx = idx + 1"
   ]
  },
  {
   "cell_type": "markdown",
   "id": "4c3bc19a-406e-4283-b109-4c2d963a20e5",
   "metadata": {},
   "source": [
    "**Step 5: Data Structures**\n",
    "1. Create a dictionary to store information about a student:\n",
    "   - Name as a string.\n",
    "   - Age as an integer.\n",
    "   - Grades as a list of integers or floats.\n",
    "2. Use a set to store the grades from the dictionary, ensuring each grade is unique.\n",
    "3. Print the dictionary and the set of unique grades."
   ]
  },
  {
   "cell_type": "code",
   "execution_count": 11,
   "id": "7cbf18eb-736d-42c2-a6eb-d31db3d1b7ce",
   "metadata": {},
   "outputs": [
    {
     "name": "stdout",
     "output_type": "stream",
     "text": [
      "Student Info: {'name': 'Alice', 'age': 20, 'grades': [85, 90, 88]}\n",
      "Unique Grades: {88, 90, 85}\n"
     ]
    }
   ],
   "source": [
    "student_info = {\n",
    "    \"name\": \"Alice\",\n",
    "    \"age\": 20,\n",
    "    \"grades\": [85, 90, 88]\n",
    "}\n",
    "unique_grades = set(student_info[\"grades\"])  # converting grades to a set for uniqueness\n",
    "\n",
    "print(f\"Student Info: {student_info}\")\n",
    "print(f\"Unique Grades: {unique_grades}\")"
   ]
  },
  {
   "cell_type": "markdown",
   "id": "af53793a-e2cc-4374-949a-2ada14807a67",
   "metadata": {},
   "source": [
    "**Step 6: Functions**\n",
    "1. Write a function `calculate_average` that:\n",
    "   - Accepts a list of grades as input.\n",
    "   - Calculates and returns the average of the grades.\n",
    "2. Call the function using the grades stored in the dictionary from Step 5.\n",
    "3. Print the average grade calculated using the function."
   ]
  },
  {
   "cell_type": "code",
   "execution_count": null,
   "id": "5cf4bc30-ffa7-418c-b720-5d8a0d417d6c",
   "metadata": {},
   "outputs": [],
   "source": [
    "def calculate_average(grades):\n",
    "    return ...\n",
    "\n",
    "average = calculate_average(student_info[\"grades\"])\n",
    "print(f\"Average Grade (using function): {average}\")"
   ]
  },
  {
   "cell_type": "code",
   "execution_count": 19,
   "id": "d1bf4edf",
   "metadata": {},
   "outputs": [
    {
     "name": "stdout",
     "output_type": "stream",
     "text": [
      "Average Grade (using function): 87.66666666666667\n"
     ]
    }
   ],
   "source": [
    "def calculate_average(grades):\n",
    "    sum = 0\n",
    "    for g in grades:\n",
    "        sum = sum + g\n",
    "    return sum/(len(grades))\n",
    "\n",
    "average = calculate_average(student_info[\"grades\"])\n",
    "print(f\"Average Grade (using function): {average}\")"
   ]
  },
  {
   "cell_type": "markdown",
   "id": "27032b0f-1408-48c3-a313-f018ff47e868",
   "metadata": {},
   "source": [
    "# 2. Advanced Functions"
   ]
  },
  {
   "cell_type": "markdown",
   "id": "f45f30cc-0063-44d8-9369-2acc90d0f368",
   "metadata": {},
   "source": [
    "**Exercise 2.1**\n",
    "\n",
    "You are tasked with writing a Python script that processes a list of student scores to compute the following:\n",
    "\n",
    "1. Total Sum of Scores: Use a function with unpacking (*args) to calculate the total sum of all the scores passed to it.\n",
    "2. Filtering High Scores: Use a lambda function to filter scores above a given threshold.\n",
    "3. Finding the Average: Use a higher-order function (map) to compute the average of scores.\n",
    "\n",
    "Write the functions and use the provided example list of scores to demonstrate your solution.\n",
    "\n",
    "---\n",
    "\n",
    "**input example**\n",
    "```python\n",
    "scores = [78, 95, 62, 88, 70, 85]\n",
    "threshold = 80\n"
   ]
  },
  {
   "cell_type": "code",
   "execution_count": null,
   "id": "e755d3cb-4ca3-4e54-8e95-795a8734db8f",
   "metadata": {},
   "outputs": [],
   "source": [
    "# 1. Calculate total sum using *args\n",
    "def calculate_total_sum(...):\n",
    "    ...\n",
    "\n",
    "# 2. Filter scores above a threshold using a lambda function\n",
    "def filter_high_scores(...):\n",
    "    high_scores = ...\n",
    "    return high_scores\n",
    "\n",
    "# 3. Calculate average using a higher-order function\n",
    "def calculate_average(.):\n",
    "    total = ...\n",
    "    return ..."
   ]
  },
  {
   "cell_type": "code",
   "execution_count": null,
   "id": "625b8c88-22cb-4466-b234-9d7b6959a24e",
   "metadata": {},
   "outputs": [],
   "source": [
    "# Example usage\n",
    "scores = [78, 95, 62, 88, 70, 85]\n",
    "threshold = 80\n",
    "\n",
    "# Total Sum\n",
    "total_sum = calculate_total_sum(*scores)\n",
    "print(\"Total Sum:\", total_sum)\n",
    "\n",
    "# High Scores\n",
    "high_scores = filter_high_scores(scores, threshold)\n",
    "print(\"High Scores:\", high_scores)\n",
    "\n",
    "# Average Score\n",
    "average_score = calculate_average(scores)\n",
    "print(\"Average Score:\", average_score)"
   ]
  },
  {
   "cell_type": "code",
   "execution_count": 41,
   "id": "72d54899",
   "metadata": {},
   "outputs": [
    {
     "name": "stdout",
     "output_type": "stream",
     "text": [
      "478\n",
      "[95, 88, 85]\n",
      "79.66666666666667\n"
     ]
    }
   ],
   "source": [
    "\n",
    "#del sum\n",
    "\n",
    "scores = [78, 95, 62, 88, 70, 85]\n",
    "threshold = 80\n",
    "\n",
    "# 1. Calculate total sum using *args\n",
    "def calculate_total_sum(*args): \n",
    "    return sum(args)\n",
    "\n",
    "# 2. Filter scores above a threshold using a lambda function\n",
    "def filter_high_scores(*numbers):\n",
    "    return list(filter(lambda x: x > threshold, numbers))\n",
    "\n",
    "# 3. Calculate average using a higher-order function\n",
    "def calculate_average(numbers):\n",
    "    return sum(map(lambda x: x, numbers))/len(numbers)\n",
    "\n",
    "total_sum = calculate_total_sum(*scores)\n",
    "high_scores = filter_high_scores(*scores)\n",
    "average = calculate_average(scores)\n",
    "\n",
    "print(total_sum)\n",
    "print(high_scores)\n",
    "print(average)"
   ]
  },
  {
   "cell_type": "markdown",
   "id": "e12f6cbb-28ee-4c43-ad3d-8d6d96d7b30d",
   "metadata": {},
   "source": [
    "# 3. Python Syntax Deep Dive"
   ]
  },
  {
   "cell_type": "markdown",
   "id": "302e8511-cb2e-4f57-9bfd-5ba7ab608a66",
   "metadata": {},
   "source": [
    "**Exercise 3.1: List Comprehensions with Unpacking**\n",
    "\n",
    "**Problem Statement**\n",
    "You are given a list of tuples, where each tuple contains two numbers. You need to complete the following tasks:\n",
    "\n",
    "1. **Flatten the list of tuples**: Use a list comprehension to extract all the numbers from the tuples into a single flat list.\n",
    "2. **Filter even numbers**: From the flattened list, filter out only the even numbers.\n",
    "\n",
    "---\n",
    "\n",
    "**Instructions**\n",
    "1. Define a list of tuples, `number_pairs`.\n",
    "2. Use a list comprehension to flatten this list into a 1D list.\n",
    "3. Use a list comprehension again to filter out only the even numbers from the flattened list.\n",
    "\n",
    "---\n",
    "\n",
    "**Input Example**\n",
    "```python\n",
    "number_pairs = [(1, 2), (3, 4), (5, 6), (7, 8)]\n"
   ]
  },
  {
   "cell_type": "code",
   "execution_count": 3,
   "id": "32993a11-b600-439a-9076-723629a3fb0d",
   "metadata": {},
   "outputs": [
    {
     "name": "stdout",
     "output_type": "stream",
     "text": [
      "Flattened List: [1, 2, 3, 4, 5, 6, 7, 8]\n",
      "Even Numbers: [2, 4, 6, 8]\n"
     ]
    }
   ],
   "source": [
    "# Define a list of tuples\n",
    "number_pairs = [(1, 2), (3, 4), (5, 6), (7, 8)]\n",
    "\n",
    "# 1. Flatten the list using list comprehension\n",
    "flattened_list = ...\n",
    "print(\"Flattened List:\", flattened_list)\n",
    "\n",
    "# 2. Filter out even numbers using list comprehension\n",
    "even_numbers = ...\n",
    "print(\"Even Numbers:\", even_numbers)"
   ]
  },
  {
   "cell_type": "markdown",
   "id": "8a0e1839-7dea-43a8-b909-aeb1d9b1e157",
   "metadata": {},
   "source": [
    "# **Lab**: Invoice Analysis Toolkit\n",
    "\n",
    "**Lab Objectives:**\n",
    "\n",
    "1. Master JSON file handling\n",
    "2. Practice higher-order functions\n",
    "3. Explore list comprehensions\n",
    "4. Develop practical data processing skills"
   ]
  },
  {
   "cell_type": "markdown",
   "id": "1a0fc804-d238-4843-a979-e2c2c2ed9a83",
   "metadata": {},
   "source": [
    "## 1. File Handling and JSON Processing\n",
    "\n",
    "**Task**: Create a function to load and validate invoice data, i.e., checks that the keys 'invoice_id', 'customer_name' and 'total_amount' exist."
   ]
  },
  {
   "cell_type": "code",
   "execution_count": null,
   "id": "54eaaa53-08b4-47f0-9fca-6647b76840fd",
   "metadata": {},
   "outputs": [],
   "source": [
    "import json\n",
    "\n",
    "def load_invoices(filename):\n",
    "    \"\"\"\n",
    "    Load invoices from a JSON file\n",
    "    \n",
    "    Args:\n",
    "        filename (str): Path to the JSON file\n",
    "    \n",
    "    Returns:\n",
    "        list: List of validated invoice dictionaries\n",
    "    \"\"\"\n",
    "    try:\n",
    "        # Open the file in read mode\n",
    "        with open(filename, 'r') as file:\n",
    "            # Load JSON data from the file\n",
    "            invoices = ...\n",
    "        \n",
    "        # Validate invoices using a list comprehension\n",
    "        validated_invoices = [\n",
    "            invoice for invoice in invoices\n",
    "            # Check that each invoice has required keys, all() ensures every specified key exists\n",
    "            if all(...)\n",
    "        ]\n",
    "        \n",
    "        return validated_invoices\n",
    "    \n",
    "    except FileNotFoundError:\n",
    "        # Handle case where the file doesn't exist\n",
    "        print(f\"Error: File {filename} not found\")\n",
    "        return []\n",
    "    except json.JSONDecodeError:\n",
    "        # Handle invalid JSON formatting\n",
    "        print(\"Invalid JSON format\")\n",
    "        return []"
   ]
  },
  {
   "cell_type": "markdown",
   "id": "3983c610-cb56-47f7-99d6-9dfae22efe87",
   "metadata": {},
   "source": [
    "## 2. Higher-Order Functions Exercise\n",
    "\n",
    "**Task**: Use filter(), map(), and lambda to process invoices to:\n",
    "1. Filter paid invoices\n",
    "2. Calculate total items per invoice"
   ]
  },
  {
   "cell_type": "code",
   "execution_count": null,
   "id": "6d1f09f4-ccfe-4777-8871-dcd02a8c8dcf",
   "metadata": {},
   "outputs": [],
   "source": [
    "def process_invoices(invoices):\n",
    "    \"\"\"\n",
    "    Demonstrate higher-order function techniques\n",
    "    \n",
    "    Args:\n",
    "        invoices (list): List of invoice dictionaries\n",
    "    \n",
    "    Returns:\n",
    "        dict: Processed invoice information\n",
    "    \"\"\"\n",
    "    # Filter paid invoices\n",
    "    paid_invoices = list(filter(...))\n",
    "    \n",
    "    # Calculate total items per invoice\n",
    "    total_items = list(map(\n",
    "        ...\n",
    "    ))\n",
    "    \n",
    "    return {\n",
    "        'paid_invoices': paid_invoices,\n",
    "        'total_items_per_invoice': total_items\n",
    "    }"
   ]
  },
  {
   "cell_type": "markdown",
   "id": "6e614872-bead-4dc5-a6ce-0c1220f79046",
   "metadata": {},
   "source": [
    "## Part 3. Comprehensions Exercise\n",
    "**Task**: Use list and dictionary comprehensions for data transformation. Define a function invoice_comprehensions(invoices) which compute and return the following info:\n",
    "\n",
    "1. List of customer names\n",
    "2. Dictionary of invoice totals by customer\n",
    "3. High-value invoice details"
   ]
  },
  {
   "cell_type": "code",
   "execution_count": null,
   "id": "b88fb7a4-775b-48d5-b2c9-1b0b57afe454",
   "metadata": {},
   "outputs": [],
   "source": [
    "def invoice_comprehensions(invoices):\n",
    "    \"\"\"\n",
    "    Apply list and dictionary comprehensions\n",
    "    \n",
    "    Args:\n",
    "        invoices (list): List of invoice dictionaries\n",
    "    \n",
    "    Returns:\n",
    "        dict: Comprehension results\n",
    "    \"\"\"\n",
    "    # List of customer names\n",
    "    customer_names = ...\n",
    "    \n",
    "    # Dictionary of invoice totals by customer\n",
    "    customer_totals = {\n",
    "        ...\n",
    "    }\n",
    "    \n",
    "    # High-value invoice details\n",
    "    high_value_invoices = [\n",
    "        {\n",
    "            ...\n",
    "        } for inv in invoices if inv['total_amount'] > 4000\n",
    "    ]\n",
    "    \n",
    "    return {\n",
    "        'customer_names': customer_names,\n",
    "        'customer_totals': customer_totals,\n",
    "        'high_value_invoices': high_value_invoices\n",
    "    }"
   ]
  },
  {
   "cell_type": "markdown",
   "id": "4e89a8ff-1a1f-4ecd-b5c4-24ad6f4d9810",
   "metadata": {},
   "source": [
    "## Part 4. Mini-Project: Invoice Analytics\n",
    "**Task**: Create a simple invoice analysis class with two methods:\n",
    "1. total_revenue(self) to calculate total revenue\n",
    "2. evenue_by_status to group revenue by payment status"
   ]
  },
  {
   "cell_type": "code",
   "execution_count": null,
   "id": "6f51badb-d54f-494b-907a-3c9cbef5f83c",
   "metadata": {},
   "outputs": [],
   "source": [
    "class InvoiceAnalyzer:\n",
    "    def __init__(self, invoices):\n",
    "        self.invoices = invoices\n",
    "    \n",
    "    def total_revenue(self):\n",
    "        \"\"\"Calculate total revenue\"\"\"\n",
    "        return ...\n",
    "    \n",
    "    def revenue_by_status(self):\n",
    "        \"\"\"Group revenue by payment status\"\"\"\n",
    "        status_revenue = {}\n",
    "        for inv in self.invoices:\n",
    "            status = ...\n",
    "            status_revenue[status] = ...\n",
    "        return status_revenue"
   ]
  },
  {
   "cell_type": "markdown",
   "id": "cd7ca5d4-5188-4c06-a828-ab37040c4fe8",
   "metadata": {},
   "source": [
    "## **Lab Challenge**\n",
    "\n",
    "Combine all the learned techniques to create a comprehensive invoice processing script:"
   ]
  },
  {
   "cell_type": "code",
   "execution_count": null,
   "id": "83c09318-a052-436d-9883-0b79c10d6501",
   "metadata": {},
   "outputs": [],
   "source": [
    "def main():\n",
    "    # Load invoices\n",
    "    ...\n",
    "    \n",
    "    # Process invoices\n",
    "    ...\n",
    "    \n",
    "    # Apply comprehensions\n",
    "    ...\n",
    "    \n",
    "    # Analyze invoices\n",
    "    ...\n",
    "    \n",
    "    # Print results\n",
    "    print(\"Total Revenue:\", analyzer.total_revenue())\n",
    "    print(\"Revenue by Status:\", analyzer.revenue_by_status())\n",
    "    print(\"High-Value Invoices:\", comprehension_results['high_value_invoices'])\n",
    "\n",
    "if __name__ == \"__main__\":\n",
    "    main()"
   ]
  },
  {
   "cell_type": "code",
   "execution_count": null,
   "id": "622d0296-728f-418d-8b88-24b263f2a76e",
   "metadata": {},
   "outputs": [],
   "source": []
  }
 ],
 "metadata": {
  "kernelspec": {
   "display_name": "Python 3",
   "language": "python",
   "name": "python3"
  },
  "language_info": {
   "codemirror_mode": {
    "name": "ipython",
    "version": 3
   },
   "file_extension": ".py",
   "mimetype": "text/x-python",
   "name": "python",
   "nbconvert_exporter": "python",
   "pygments_lexer": "ipython3",
   "version": "3.12.1"
  }
 },
 "nbformat": 4,
 "nbformat_minor": 5
}
